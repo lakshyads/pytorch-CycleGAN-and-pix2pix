{
  "nbformat": 4,
  "nbformat_minor": 2,
  "metadata": {
    "colab": {
      "name": "pix2pix",
      "provenance": [],
      "collapsed_sections": [],
      "include_colab_link": true
    },
    "kernelspec": {
      "name": "python3",
      "display_name": "Python 3.7.0 64-bit ('base': conda)"
    },
    "accelerator": "GPU",
    "language_info": {
      "name": "python",
      "version": "3.7.0",
      "mimetype": "text/x-python",
      "codemirror_mode": {
        "name": "ipython",
        "version": 3
      },
      "pygments_lexer": "ipython3",
      "nbconvert_exporter": "python",
      "file_extension": ".py"
    },
    "interpreter": {
      "hash": "97ae724bfa85b9b34df7982b8bb8c7216f435b92902d749e4263f71162bea840"
    }
  },
  "cells": [
    {
      "cell_type": "markdown",
      "source": [
        "<a href=\"https://colab.research.google.com/github/bkkaggle/pytorch-CycleGAN-and-pix2pix/blob/master/pix2pix.ipynb\" target=\"_parent\"><img src=\"https://colab.research.google.com/assets/colab-badge.svg\" alt=\"Open In Colab\"/></a>"
      ],
      "metadata": {
        "id": "view-in-github",
        "colab_type": "text"
      }
    },
    {
      "cell_type": "markdown",
      "source": [
        "# Install"
      ],
      "metadata": {
        "id": "7wNjDKdQy35h",
        "colab_type": "text"
      }
    },
    {
      "cell_type": "code",
      "execution_count": null,
      "source": [
        "!git clone https://github.com/junyanz/pytorch-CycleGAN-and-pix2pix"
      ],
      "outputs": [],
      "metadata": {
        "id": "TRm-USlsHgEV",
        "colab_type": "code",
        "colab": {}
      }
    },
    {
      "cell_type": "code",
      "execution_count": null,
      "source": [
        "import os\r\n",
        "os.chdir('pytorch-CycleGAN-and-pix2pix/')"
      ],
      "outputs": [],
      "metadata": {
        "id": "Pt3igws3eiVp",
        "colab_type": "code",
        "colab": {}
      }
    },
    {
      "cell_type": "code",
      "execution_count": null,
      "source": [
        "!pip install -r requirements.txt"
      ],
      "outputs": [],
      "metadata": {
        "id": "z1EySlOXwwoa",
        "colab_type": "code",
        "colab": {}
      }
    },
    {
      "cell_type": "markdown",
      "source": [
        "# Datasets\r\n",
        "\r\n",
        "Download one of the official datasets with:\r\n",
        "\r\n",
        "-   `bash ./datasets/download_pix2pix_dataset.sh [cityscapes, night2day, edges2handbags, edges2shoes, facades, maps]`\r\n",
        "\r\n",
        "Or use your own dataset by creating the appropriate folders and adding in the images. Follow the instructions [here](https://github.com/junyanz/pytorch-CycleGAN-and-pix2pix/blob/master/docs/datasets.md#pix2pix-datasets)."
      ],
      "metadata": {
        "id": "8daqlgVhw29P",
        "colab_type": "text"
      }
    },
    {
      "cell_type": "code",
      "execution_count": null,
      "source": [
        "!bash ./datasets/download_pix2pix_dataset.sh maps"
      ],
      "outputs": [],
      "metadata": {
        "id": "vrdOettJxaCc",
        "colab_type": "code",
        "colab": {}
      }
    },
    {
      "cell_type": "markdown",
      "source": [
        "# Pretrained models\r\n",
        "\r\n",
        "Download one of the official pretrained models with:\r\n",
        "\r\n",
        "-   `bash ./scripts/download_pix2pix_model.sh [edges2shoes, sat2map, map2sat, facades_label2photo, and day2night]`\r\n",
        "\r\n",
        "Or add your own pretrained model to `./checkpoints/{NAME}_pretrained/latest_net_G.pt`"
      ],
      "metadata": {
        "id": "gdUz4116xhpm",
        "colab_type": "text"
      }
    },
    {
      "cell_type": "code",
      "execution_count": 4,
      "source": [
        "!bash ./scripts/download_pix2pix_model.sh sat2map"
      ],
      "outputs": [],
      "metadata": {
        "id": "GC2DEP4M0OsS",
        "colab_type": "code",
        "colab": {}
      }
    },
    {
      "cell_type": "markdown",
      "source": [
        "# Training\r\n",
        "\r\n",
        "-   `python train.py --dataroot ./datasets/facades --name facades_pix2pix --model pix2pix --direction BtoA`\r\n",
        "\r\n",
        "Change the `--dataroot` and `--name` to your own dataset's path and model's name. Use `--gpu_ids 0,1,..` to train on multiple GPUs and `--batch_size` to change the batch size. Add `--direction BtoA` if you want to train a model to transfrom from class B to A."
      ],
      "metadata": {
        "id": "yFw1kDQBx3LN",
        "colab_type": "text"
      }
    },
    {
      "cell_type": "code",
      "execution_count": null,
      "source": [
        "!python train.py --dataroot ./datasets/maps --name maps_pix2pix --model pix2pix --direction AtoB"
      ],
      "outputs": [],
      "metadata": {
        "id": "0sp7TCT2x9dB",
        "colab_type": "code",
        "colab": {}
      }
    },
    {
      "cell_type": "markdown",
      "source": [
        "# Testing\r\n",
        "\r\n",
        "-   `python test.py --dataroot ./datasets/facades --direction BtoA --model pix2pix --name facades_pix2pix`\r\n",
        "\r\n",
        "Change the `--dataroot`, `--name`, and `--direction` to be consistent with your trained model's configuration and how you want to transform images.\r\n",
        "\r\n",
        "> from https://github.com/junyanz/pytorch-CycleGAN-and-pix2pix:\r\n",
        "> Note that we specified --direction BtoA as Facades dataset's A to B direction is photos to labels.\r\n",
        "\r\n",
        "> If you would like to apply a pre-trained model to a collection of input images (rather than image pairs), please use --model test option. See ./scripts/test_single.sh for how to apply a model to Facade label maps (stored in the directory facades/testB).\r\n",
        "\r\n",
        "> See a list of currently available models at ./scripts/download_pix2pix_model.sh"
      ],
      "metadata": {
        "id": "9UkcaFZiyASl",
        "colab_type": "text"
      }
    },
    {
      "cell_type": "code",
      "execution_count": null,
      "source": [
        "!ls checkpoints/"
      ],
      "outputs": [],
      "metadata": {
        "id": "mey7o6j-0368",
        "colab_type": "code",
        "colab": {}
      }
    },
    {
      "cell_type": "code",
      "execution_count": null,
      "source": [
        "!python test.py --dataroot ./datasets/maps --direction AtoB --model pix2pix --name sat2map_pretrained"
      ],
      "outputs": [],
      "metadata": {
        "id": "uCsKkEq0yGh0",
        "colab_type": "code",
        "colab": {}
      }
    },
    {
      "cell_type": "markdown",
      "source": [
        "# Visualize"
      ],
      "metadata": {
        "id": "OzSKIPUByfiN",
        "colab_type": "text"
      }
    },
    {
      "cell_type": "code",
      "execution_count": null,
      "source": [
        "import matplotlib.pyplot as plt\r\n",
        "\r\n",
        "img = plt.imread('./results/sat2map_pretrained/test_latest/images/1000_fake_B.png')\r\n",
        "plt.imshow(img)"
      ],
      "outputs": [],
      "metadata": {
        "id": "9Mgg8raPyizq",
        "colab_type": "code",
        "colab": {}
      }
    },
    {
      "cell_type": "code",
      "execution_count": null,
      "source": [
        "img = plt.imread('./results/sat2map_pretrained/test_latest/images/1000_real_A.png')\r\n",
        "plt.imshow(img)"
      ],
      "outputs": [],
      "metadata": {
        "id": "0G3oVH9DyqLQ",
        "colab_type": "code",
        "colab": {}
      }
    },
    {
      "cell_type": "code",
      "execution_count": null,
      "source": [
        "img = plt.imread('./results/sat2map_pretrained/test_latest/images/1000_real_B.png')\r\n",
        "plt.imshow(img)"
      ],
      "outputs": [],
      "metadata": {
        "id": "ErK5OC1j1LH4",
        "colab_type": "code",
        "colab": {}
      }
    }
  ]
}